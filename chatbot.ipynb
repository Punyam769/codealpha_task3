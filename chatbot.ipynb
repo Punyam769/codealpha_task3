{
 "cells": [
  {
   "cell_type": "code",
   "execution_count": null,
   "id": "89370a53-f2e6-4f5b-912b-f861c927c362",
   "metadata": {},
   "outputs": [],
   "source": [
    "import nltk\n",
    "from nltk.chat.util import Chat, reflections\n",
    "\n",
    "nltk.download('punkt')\n",
    "\n",
    "pairs = [\n",
    "    (r'hi|hello|hey', ['Hello! How can I help you today?', 'Hi there!']),\n",
    "    (r'how are you?', ['I am just a bot, but I am doing well. How about you?']),\n",
    "    (r'what is your name?', ['I am a simple chatbot created to assist you.']),\n",
    "    (r'bye|goodbye', ['Goodbye! Have a great day!']),\n",
    "    (r'(.*)', ['Sorry, I didn\\'t understand that. Can you ask something else?'])\n",
    "]\n",
    "\n",
    "chatbot = Chat(pairs, reflections)\n",
    "\n",
    "def main():\n",
    "    print(\"Welcome to the NLTK chatbot! Type 'bye' or 'goodbye' to exit.\")\n",
    "    while True:\n",
    "        user_input = input(\"You: \")\n",
    "        if user_input.lower() in ['bye', 'goodbye']:\n",
    "            print(\"Chatbot: Goodbye!\")\n",
    "            break\n",
    "        \n",
    "        response = chatbot.respond(user_input)\n",
    "        print(\"Chatbot:\", response)\n",
    "\n",
    "if __name__ == \"__main__\":\n",
    "    main()\n"
   ]
  }
 ],
 "metadata": {
  "kernelspec": {
   "display_name": "Python 3 (ipykernel)",
   "language": "python",
   "name": "python3"
  },
  "language_info": {
   "codemirror_mode": {
    "name": "ipython",
    "version": 3
   },
   "file_extension": ".py",
   "mimetype": "text/x-python",
   "name": "python",
   "nbconvert_exporter": "python",
   "pygments_lexer": "ipython3",
   "version": "3.12.4"
  }
 },
 "nbformat": 4,
 "nbformat_minor": 5
}
